{
 "cells": [
  {
   "cell_type": "code",
   "execution_count": 1,
   "metadata": {},
   "outputs": [
    {
     "name": "stderr",
     "output_type": "stream",
     "text": [
      "/mntcephfs/lab_data/hanyizhou/anaconda/pe/lib/python3.11/site-packages/torch/cuda/__init__.py:619: UserWarning: Can't initialize NVML\n",
      "  warnings.warn(\"Can't initialize NVML\")\n",
      "/mntcephfs/lab_data/hanyizhou/anaconda/pe/lib/python3.11/site-packages/torch/cuda/__init__.py:749: UserWarning: CUDA initialization: The NVIDIA driver on your system is too old (found version 11060). Please update your GPU driver by downloading and installing a new version from the URL: http://www.nvidia.com/Download/index.aspx Alternatively, go to: https://pytorch.org to install a PyTorch version that has been compiled with your version of the CUDA driver. (Triggered internally at /opt/conda/conda-bld/pytorch_1716905969073/work/c10/cuda/CUDAFunctions.cpp:108.)\n",
      "  return torch._C._cuda_getDeviceCount() if nvml_count < 0 else nvml_count\n"
     ]
    },
    {
     "data": {
      "application/vnd.jupyter.widget-view+json": {
       "model_id": "f32b6fed9a854680b454293ed5e07d43",
       "version_major": 2,
       "version_minor": 0
      },
      "text/plain": [
       "Loading checkpoint shards:   0%|          | 0/2 [00:00<?, ?it/s]"
      ]
     },
     "metadata": {},
     "output_type": "display_data"
    }
   ],
   "source": [
    "llama_dir = '/mntcephfs/data/ruoyusun/liziniu/.cache/huggingface/hub/models--meta-llama--Llama-2-7b-hf/snapshots/8a0442e81540efaeb1a0fe3e95477b5e0edfd423'\n",
    "from transformers import LlamaForCausalLM\n",
    "llama = LlamaForCausalLM.from_pretrained(llama_dir,attn_implementation=\"eager\")"
   ]
  },
  {
   "cell_type": "code",
   "execution_count": 2,
   "metadata": {},
   "outputs": [],
   "source": [
    "from torch import nn\n",
    "import torch\n",
    "class LlamaRotaryEmbedding(nn.Module):\n",
    "    def __init__(self, dim, max_position_embeddings=2048, base=10000, device=None, scaling_factor=1.0):\n",
    "        super().__init__()\n",
    "        self.scaling_factor = scaling_factor\n",
    "        self.dim = dim\n",
    "        self.max_position_embeddings = max_position_embeddings\n",
    "        self.base = base\n",
    "        inv_freq = 1.0 / (self.base ** (torch.arange(0, self.dim, 2, dtype=torch.int64).float().to(device) / self.dim))\n",
    "        self.register_buffer(\"inv_freq\", inv_freq, persistent=False)\n",
    "        # For BC we register cos and sin cached\n",
    "        self.max_seq_len_cached = max_position_embeddings\n",
    "        t = torch.arange(self.max_seq_len_cached, device=device, dtype=torch.int64).type_as(self.inv_freq)\n",
    "        t = t / self.scaling_factor\n",
    "        freqs = torch.outer(t, self.inv_freq)\n",
    "        # Different from paper, but it uses a different permutation in order to obtain the same calculation\n",
    "        emb = torch.cat((freqs, freqs), dim=-1)\n",
    "        self.register_buffer(\"_cos_cached\", emb.cos().to(torch.get_default_dtype()), persistent=False)\n",
    "        self.register_buffer(\"_sin_cached\", emb.sin().to(torch.get_default_dtype()), persistent=False)\n",
    "        \n",
    "\n",
    "\n",
    "    @torch.no_grad()\n",
    "    def forward(self, x, position_ids, seq_len=None):\n",
    "        if seq_len is not None:\n",
    "            logger.warning_once(\"The `seq_len` argument is deprecated and unused. It will be removed in v4.39.\")\n",
    "\n",
    "        # x: [bs, num_attention_heads, seq_len, head_size]\n",
    "        inv_freq_expanded = self.inv_freq[None, :, None].float().expand(position_ids.shape[0], -1, 1)\n",
    "        position_ids_expanded = position_ids[:, None, :].float()\n",
    "        # Force float32 since bfloat16 loses precision on long contexts\n",
    "        # See https://github.com/huggingface/transformers/pull/29285\n",
    "        device_type = x.device.type\n",
    "        device_type = device_type if isinstance(device_type, str) else \"cpu\"\n",
    "        with torch.autocast(device_type=device_type, enabled=False):\n",
    "            freqs = (inv_freq_expanded.float() @ position_ids_expanded.float()).transpose(1, 2)\n",
    "            emb = torch.cat((freqs, freqs), dim=-1)\n",
    "            cos = emb.cos()\n",
    "            sin = emb.sin()\n",
    "        return cos.to(dtype=x.dtype), sin.to(dtype=x.dtype)\n",
    "    \n",
    "\n"
   ]
  },
  {
   "cell_type": "code",
   "execution_count": 3,
   "metadata": {},
   "outputs": [
    {
     "data": {
      "text/plain": [
       "(tensor(2.8543, grad_fn=<NllLossBackward0>), torch.Size([1, 32, 30, 30]))"
      ]
     },
     "execution_count": 3,
     "metadata": {},
     "output_type": "execute_result"
    }
   ],
   "source": [
    "from transformers import AutoTokenizer\n",
    "tokenizer_llama = AutoTokenizer.from_pretrained(llama_dir)\n",
    "inputs_llama = tokenizer_llama(\"The decision left CNN Chief Medical Correspondent Sanjay Gupta as the only doctor at the hospital to get the patients through the night.\", return_tensors=\"pt\")\n",
    "'''设计随机输入'''\n",
    "#inputs_llama = tokenizer_llama('aodfasldfoajsdlfjasdofjaois difjaosidjfaois aosidjfoasdj doifajsdiofjaoisd iojoi oisadfjoai oijasodfjoij diosfjaios',return_tensors='pt')\n",
    "\n",
    "\n",
    "outputs_llama = llama(**inputs_llama, labels = inputs_llama['input_ids'], output_attentions= True, output_hidden_states=True)\n",
    "outputs_llama.loss,outputs_llama.attentions[0].shape"
   ]
  },
  {
   "cell_type": "code",
   "execution_count": 22,
   "metadata": {},
   "outputs": [
    {
     "data": {
      "text/plain": [
       "LlamaForCausalLM(\n",
       "  (model): LlamaModel(\n",
       "    (embed_tokens): Embedding(32000, 4096)\n",
       "    (layers): ModuleList(\n",
       "      (0-31): 32 x LlamaDecoderLayer(\n",
       "        (self_attn): LlamaAttention(\n",
       "          (q_proj): Linear(in_features=4096, out_features=4096, bias=False)\n",
       "          (k_proj): Linear(in_features=4096, out_features=4096, bias=False)\n",
       "          (v_proj): Linear(in_features=4096, out_features=4096, bias=False)\n",
       "          (o_proj): Linear(in_features=4096, out_features=4096, bias=False)\n",
       "          (rotary_emb): LlamaRotaryEmbedding()\n",
       "        )\n",
       "        (mlp): LlamaMLP(\n",
       "          (gate_proj): Linear(in_features=4096, out_features=11008, bias=False)\n",
       "          (up_proj): Linear(in_features=4096, out_features=11008, bias=False)\n",
       "          (down_proj): Linear(in_features=11008, out_features=4096, bias=False)\n",
       "          (act_fn): SiLU()\n",
       "        )\n",
       "        (input_layernorm): LlamaRMSNorm()\n",
       "        (post_attention_layernorm): LlamaRMSNorm()\n",
       "      )\n",
       "    )\n",
       "    (norm): LlamaRMSNorm()\n",
       "  )\n",
       "  (lm_head): Linear(in_features=4096, out_features=32000, bias=False)\n",
       ")"
      ]
     },
     "execution_count": 22,
     "metadata": {},
     "output_type": "execute_result"
    }
   ],
   "source": [
    "llama"
   ]
  },
  {
   "cell_type": "code",
   "execution_count": null,
   "metadata": {
    "scrolled": true
   },
   "outputs": [],
   "source": [
    "from matplotlib import pyplot as plt\n",
    "attention_llama = [outputs_llama.attentions[i][0].detach().cpu().numpy() for i in range(32)]\n",
    "vmin = min([_attention.min() for _attention in attention_llama])\n",
    "vmax = max([_attention.max() for _attention in attention_llama])\n",
    "#attention_pad = [outputs_pad.attentions[i][0].detach().cpu().numpy() for i in range(12)]\n",
    "'''每个四层画一个, 每层画8个, 总计64个'''\n",
    "fig,axes = plt.subplots(ncols=8,figsize = (40,5))\n",
    "for i in range(8):\n",
    "    axes[i].matshow(attention_llama[0][4*i+2],vmin=vmin, vmax=vmax)\n",
    "fig,axes = plt.subplots(ncols=8,figsize = (40,5))\n",
    "for i in range(8):\n",
    "    axes[i].matshow(attention_llama[1][4*i+2],vmin=vmin, vmax=vmax)\n",
    "\n",
    "for j in range(1,9):\n",
    "    fig,axes = plt.subplots(ncols=8,figsize = (40,5))\n",
    "    for i in range(8):\n",
    "        axes[i].matshow(attention_llama[4*j-1][4*i+2],vmin=vmin, vmax=vmax)\n",
    "    "
   ]
  },
  {
   "cell_type": "markdown",
   "metadata": {},
   "source": [
    "## 计算位置编码提供的信息量:\n",
    "一般的attention score计算: \n",
    "$$\n",
    "a_{ij} = \\tilde{q_i}^T\\cdot \\tilde{k_j}=x_i^T\\cdot W_q^T\\cdot R^{-i}\\cdot R^j \\cdot W_k\\cdot x_j = q_i^T\\cdot R^{j-i}\\cdot k_j\n",
    "$$\n",
    "\n",
    "不添加位置编码的情况:\n",
    "$$\n",
    "\\tilde{a_{ij}} = q_i^T\\cdot k_j = x_i^T\\cdot W_q\\cdot W_k \\cdot x_j\n",
    "$$\n",
    "\n",
    "二者做差: \n",
    "$$\n",
    "\\Delta = |a_{ij}-\\tilde{a_{ij}}|\n",
    "$$"
   ]
  },
  {
   "cell_type": "code",
   "execution_count": 4,
   "metadata": {},
   "outputs": [],
   "source": [
    "layer_idx = 0\n",
    "import torch\n",
    "import math\n",
    "max_positions = 4096\n",
    "attn_bias = torch.tril(torch.ones((max_positions, max_positions), dtype=torch.bool)).view(\n",
    "                1, 1, max_positions, max_positions\n",
    "            )\n",
    "\n",
    "\n",
    "\n",
    "def attention_score_wo_rotary(layer_idx, hidden_states, num_heads=32, head_dim = 128):\n",
    "    bsz, q_len, _ = hidden_states.size()\n",
    "    \n",
    "    attn_model = llama.model.layers[layer_idx]\n",
    "    \n",
    "    layer_norm = attn_model.input_layernorm\n",
    "    \n",
    "    hidden_states = layer_norm(hidden_states)\n",
    "    \n",
    "    query_states = attn_model.self_attn.q_proj(hidden_states)\n",
    "    key_states = attn_model.self_attn.k_proj(hidden_states)\n",
    "    value_states = attn_model.self_attn.v_proj(hidden_states)\n",
    "    \n",
    "    query_states = query_states.view(bsz, q_len, num_heads, head_dim).transpose(1, 2)\n",
    "    key_states = key_states.view(bsz, q_len, num_heads, head_dim).transpose(1, 2)\n",
    "    value_states = value_states.view(bsz, q_len, num_heads,head_dim).transpose(1, 2)\n",
    "    \n",
    "    attn_weights = torch.matmul(query_states, key_states.transpose(2, 3)) / math.sqrt(head_dim)\n",
    "    attn_shape = attn_weights.shape\n",
    "    \n",
    "    query_length, key_length = attn_shape[-2],attn_shape[-1]\n",
    "    causal_mask = attn_bias[:, :, key_length - query_length : key_length, :key_length]\n",
    "    mask_value = torch.finfo(attn_weights.dtype).min\n",
    "    mask_value = torch.full([], mask_value, dtype=attn_weights.dtype, device=attn_weights.device)\n",
    "    attn_weights = torch.where(causal_mask, attn_weights.to(attn_weights.dtype), mask_value)\n",
    "    return attn_weights[0]\n",
    "    "
   ]
  },
  {
   "cell_type": "code",
   "execution_count": 5,
   "metadata": {},
   "outputs": [],
   "source": [
    "def rotate_half(x):\n",
    "    \"\"\"Rotates half the hidden dims of the input.\"\"\"\n",
    "    x1 = x[..., : x.shape[-1] // 2]\n",
    "    x2 = x[..., x.shape[-1] // 2 :]\n",
    "    return torch.cat((-x2, x1), dim=-1)\n",
    "\n",
    "def apply_rotary_pos_emb(q, k, cos, sin, position_ids=None, unsqueeze_dim=1):\n",
    "    cos = cos.unsqueeze(unsqueeze_dim)\n",
    "    sin = sin.unsqueeze(unsqueeze_dim)\n",
    "    q_embed = (q * cos) + (rotate_half(q) * sin)\n",
    "    k_embed = (k * cos) + (rotate_half(k) * sin)\n",
    "    return q_embed, k_embed\n",
    "\n",
    "def attention_score_with_rotary(layer_idx, hidden_states, num_heads=32, head_dim = 128):\n",
    "    bsz, q_len, _ = hidden_states.size()\n",
    "    position_ids = torch.arange(q_len).unsqueeze(0)\n",
    "    rope_theta = llama.config.rope_theta\n",
    "    rotary_emb = LlamaRotaryEmbedding(\n",
    "                head_dim,\n",
    "                max_position_embeddings=4096,\n",
    "                base=rope_theta,\n",
    "            )\n",
    "    # rotary_emb = LlamaRotaryEmbedding_var(\n",
    "    #             head_dim,\n",
    "    #             max_position_embeddings=4096,\n",
    "    #             base=rope_theta,\n",
    "    #         )\n",
    "    attn_model = llama.model.layers[layer_idx]\n",
    "\n",
    "    layer_norm = attn_model.input_layernorm\n",
    "\n",
    "    hidden_states = layer_norm(hidden_states)\n",
    "\n",
    "    query_states = attn_model.self_attn.q_proj(hidden_states)\n",
    "    key_states = attn_model.self_attn.k_proj(hidden_states)\n",
    "    value_states = attn_model.self_attn.v_proj(hidden_states)\n",
    "\n",
    "    query_states = query_states.view(bsz, q_len, num_heads, head_dim).transpose(1, 2)\n",
    "    key_states = key_states.view(bsz, q_len, num_heads, head_dim).transpose(1, 2)\n",
    "    value_states = value_states.view(bsz, q_len, num_heads,head_dim).transpose(1, 2)\n",
    "\n",
    "    cos, sin = rotary_emb(value_states, position_ids)\n",
    "    query_states, key_states = apply_rotary_pos_emb(query_states, key_states, cos, sin)\n",
    "\n",
    "    attn_weights = torch.matmul(query_states, key_states.transpose(2, 3)) / math.sqrt(head_dim)\n",
    "    attn_shape = attn_weights.shape\n",
    "    \n",
    "    query_length, key_length = attn_shape[-2],attn_shape[-1]\n",
    "    causal_mask = attn_bias[:, :, key_length - query_length : key_length, :key_length]\n",
    "    mask_value = torch.finfo(attn_weights.dtype).min\n",
    "    mask_value = torch.full([], mask_value, dtype=attn_weights.dtype, device=attn_weights.device)\n",
    "    attn_weights = torch.where(causal_mask, attn_weights.to(attn_weights.dtype), mask_value)\n",
    "    return attn_weights[0]"
   ]
  },
  {
   "cell_type": "code",
   "execution_count": 6,
   "metadata": {},
   "outputs": [],
   "source": [
    "attn_with = attention_score_with_rotary(layer_idx=30, hidden_states=outputs_llama.hidden_states[0])\n",
    "attn_without = attention_score_wo_rotary(layer_idx=30, hidden_states=outputs_llama.hidden_states[0])\n",
    "delta = torch.abs(attn_without-attn_with)\n",
    "delta = delta/torch.abs(attn_with)"
   ]
  },
  {
   "cell_type": "code",
   "execution_count": 7,
   "metadata": {},
   "outputs": [
    {
     "data": {
      "image/png": "[encoded data removed]",
      "text/plain": [
       "<Figure size 4000x500 with 16 Axes>"
      ]
     },
     "metadata": {},
     "output_type": "display_data"
    }
   ],
   "source": [
    "from matplotlib import pyplot as plt\n",
    "attention_llama = [delta[i].detach().cpu().numpy() for i in range(32)]\n",
    "vmin = min([_attention.min() for _attention in attention_llama])\n",
    "vmax = max([_attention.max() for _attention in attention_llama])\n",
    "#attention_pad = [outputs_pad.attentions[i][0].detach().cpu().numpy() for i in range(12)]\n",
    "'''每个四层画一个, 每层画8个, 总计64个'''\n",
    "fig,axes = plt.subplots(ncols=8,figsize = (40,5))\n",
    "for i in range(8):\n",
    "    im = axes[i].matshow(attention_llama[4*i+2],vmax = 2, vmin=vmin)\n",
    "    plt.colorbar(im,ax=axes[i])\n",
    "# fig,axes = plt.subplots(ncols=8,figsize = (40,5))\n",
    "# for i in range(8):\n",
    "#     axes[i].matshow(attention_llama[1][4*i+2])\n"
   ]
  },
  {
   "cell_type": "markdown",
   "metadata": {},
   "source": [
    "### 将前面token的位置编码归零, 即不对前N个token旋转"
   ]
  },
  {
   "cell_type": "code",
   "execution_count": 8,
   "metadata": {},
   "outputs": [],
   "source": [
    "def token_shift(N, sequence_length):\n",
    "    pos = torch.arange(sequence_length-N+1).view(1,-1)\n",
    "    zero = torch.zeros(1,N-1)\n",
    "    return  torch.cat((zero,pos), dim = 1)\n",
    "def token_mask(N,sequence_length):\n",
    "    pos = torch.arange(sequence_length).view(1,-1)\n",
    "    zero = torch.zeros(1,N)\n",
    "    return torch.cat((zero,pos[:,N:]),dim=-1)\n",
    "sequence_length = inputs_llama.input_ids.shape[-1]\n",
    "loss = []\n",
    "for N in range(sequence_length):\n",
    "    position_ids = token_mask(N, sequence_length)\n",
    "    outputs_llama_mask = llama(**inputs_llama, labels = inputs_llama['input_ids'], output_attentions= True, output_hidden_states=True, position_ids = position_ids)\n",
    "    loss.append(outputs_llama_mask.loss.detach().numpy())"
   ]
  },
  {
   "cell_type": "code",
   "execution_count": 13,
   "metadata": {},
   "outputs": [
    {
     "data": {
      "text/plain": [
       "[<matplotlib.lines.Line2D at 0x155432f2cf90>]"
      ]
     },
     "execution_count": 13,
     "metadata": {},
     "output_type": "execute_result"
    },
    {
     "data": {
      "image/png": "[encoded data removed]",
      "text/plain": [
       "<Figure size 640x480 with 1 Axes>"
      ]
     },
     "metadata": {},
     "output_type": "display_data"
    }
   ],
   "source": [
    "import numpy as np\n",
    "loss = np.array(loss)\n",
    "x = np.arange(len(loss))\n",
    "plt.plot(x,loss)"
   ]
  },
  {
   "cell_type": "markdown",
   "metadata": {},
   "source": [
    "## 修改第一个token的旋转角度"
   ]
  },
  {
   "cell_type": "code",
   "execution_count": 24,
   "metadata": {},
   "outputs": [],
   "source": [
    "position_ids = torch.arange(sequence_length).view(1,-1)\n",
    "position_ids[0][-1] = 3000\n",
    "position_ids.long()\n",
    "outputs_llama_mask = llama(**inputs_llama, labels = inputs_llama['input_ids'], output_attentions= True, output_hidden_states=True, position_ids = position_ids)"
   ]
  },
  {
   "cell_type": "code",
   "execution_count": 25,
   "metadata": {},
   "outputs": [
    {
     "data": {
      "text/plain": [
       "tensor(2.8543, grad_fn=<NllLossBackward0>)"
      ]
     },
     "execution_count": 25,
     "metadata": {},
     "output_type": "execute_result"
    }
   ],
   "source": [
    "outputs_llama_mask.loss"
   ]
  },
  {
   "cell_type": "code",
   "execution_count": 26,
   "metadata": {},
   "outputs": [
    {
     "data": {
      "text/plain": [
       "tensor([[   0,    1,    2,    3,    4,    5,    6,    7,    8,    9,   10,   11,\n",
       "           12,   13,   14,   15,   16,   17,   18,   19,   20,   21,   22,   23,\n",
       "           24,   25,   26,   27,   28, 3000]])"
      ]
     },
     "execution_count": 26,
     "metadata": {},
     "output_type": "execute_result"
    }
   ],
   "source": [
    "position_ids"
   ]
  },
  {
   "cell_type": "code",
   "execution_count": 14,
   "metadata": {},
   "outputs": [],
   "source": [
    "data_dir = '/mntcephfs/data/ruoyusun/hanyizhou/wikitext-103/dataset/Salesforce_wikitext'\n",
    "from datasets import load_dataset\n",
    "data_test = load_dataset(data_dir)\n",
    "encodings = tokenizer_llama(\"\\n\\n\".join(data_test['train'][:10]['text']), return_tensors=\"pt\",truncation=True, max_length=1000)"
   ]
  },
  {
   "cell_type": "code",
   "execution_count": 16,
   "metadata": {},
   "outputs": [],
   "source": [
    "# sequence_length = encodings.input_ids.shape[-1]\n",
    "# loss = []\n",
    "# from tqdm import tqdm\n",
    "# for N in tqdm(range(1,1000)):\n",
    "#     position_ids = token_mask(N, sequence_length)\n",
    "#     with torch.no_grad():\n",
    "#         output = llama(**encodings,labels = encodings['input_ids'],output_attentions= True, output_hidden_states=True, position_ids = position_ids)\n",
    "#     loss.append(output.loss.numpy())\n"
   ]
  },
  {
   "cell_type": "code",
   "execution_count": 17,
   "metadata": {},
   "outputs": [],
   "source": [
    "loss = np.array(loss)\n"
   ]
  },
  {
   "cell_type": "code",
   "execution_count": 18,
   "metadata": {},
   "outputs": [
    {
     "ename": "NameError",
     "evalue": "name 'output' is not defined",
     "output_type": "error",
     "traceback": [
      "\u001b[0;31m---------------------------------------------------------------------------\u001b[0m",
      "\u001b[0;31mNameError\u001b[0m                                 Traceback (most recent call last)",
      "Cell \u001b[0;32mIn[18], line 1\u001b[0m\n\u001b[0;32m----> 1\u001b[0m output\u001b[38;5;241m.\u001b[39mloss\n",
      "\u001b[0;31mNameError\u001b[0m: name 'output' is not defined"
     ]
    }
   ],
   "source": [
    "output.loss"
   ]
  },
  {
   "cell_type": "markdown",
   "metadata": {},
   "source": [
    "### 根据上面的实验结果, 即便是4096长度的sequence, loss也没有太大的提升, 因此, 在RopE式的编码中, 位置信息似乎没有\"那么重要\". \n",
    "补充: 根绝我在GPT2中的实验, 如果仍旧用位置信息提供bias这一套说法的话, 我觉得更合适的是: 模型根据位置做预测, 但是语义信息提供bias."
   ]
  },
  {
   "cell_type": "markdown",
   "metadata": {},
   "source": []
  }
 ],
 "metadata": {
  "kernelspec": {
   "display_name": "Python 3 (ipykernel)",
   "language": "python",
   "name": "python3"
  },
  "language_info": {
   "codemirror_mode": {
    "name": "ipython",
    "version": 3
   },
   "file_extension": ".py",
   "mimetype": "text/x-python",
   "name": "python",
   "nbconvert_exporter": "python",
   "pygments_lexer": "ipython3",
   "version": "3.11.9"
  }
 },
 "nbformat": 4,
 "nbformat_minor": 4
}
