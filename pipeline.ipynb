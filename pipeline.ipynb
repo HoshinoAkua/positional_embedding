{
 "cells": [
  {
   "cell_type": "code",
   "execution_count": 1,
   "metadata": {},
   "outputs": [
    {
     "name": "stderr",
     "output_type": "stream",
     "text": [
      "/mntcephfs/lab_data/hanyizhou/anaconda/pe/lib/python3.11/site-packages/torch/cuda/__init__.py:619: UserWarning: Can't initialize NVML\n",
      "  warnings.warn(\"Can't initialize NVML\")\n",
      "/mntcephfs/lab_data/hanyizhou/anaconda/pe/lib/python3.11/site-packages/torch/cuda/__init__.py:749: UserWarning: CUDA initialization: The NVIDIA driver on your system is too old (found version 11060). Please update your GPU driver by downloading and installing a new version from the URL: http://www.nvidia.com/Download/index.aspx Alternatively, go to: https://pytorch.org to install a PyTorch version that has been compiled with your version of the CUDA driver. (Triggered internally at /opt/conda/conda-bld/pytorch_1716905969073/work/c10/cuda/CUDAFunctions.cpp:108.)\n",
      "  return torch._C._cuda_getDeviceCount() if nvml_count < 0 else nvml_count\n"
     ]
    }
   ],
   "source": [
    "import transformers\n",
    "import torch\n",
    "from datasets import load_dataset, load_from_disk\n",
    "from transformers import AutoTokenizer, TrainingArguments, GPT2Config, Trainer\n",
    "model_path = '/mntcephfs/data/ruoyusun/common_dirs/gpt2-small'\n",
    "tokenizer = AutoTokenizer.from_pretrained(model_path)\n"
   ]
  },
  {
   "cell_type": "code",
   "execution_count": 16,
   "metadata": {},
   "outputs": [
    {
     "data": {
      "text/plain": [
       "0"
      ]
     },
     "execution_count": 16,
     "metadata": {},
     "output_type": "execute_result"
    }
   ],
   "source": [
    "dataset = load_dataset('/mntcephfs/data/ruoyusun/hanyizhou/wikitext-103/dataset/Salesforce_wikitext')\n",
    "dataset = dataset['train']\n",
    "tokenizer.add_special_tokens({'pad_token': '[PAD]'})"
   ]
  },
  {
   "cell_type": "code",
   "execution_count": 10,
   "metadata": {},
   "outputs": [],
   "source": [
    "def precess(examples):\n",
    "    context = [e+ tokenizer.eos_token for e in examples['text']]\n",
    "    return tokenizer(context, max_length=512, truncation=True)"
   ]
  },
  {
   "cell_type": "code",
   "execution_count": null,
   "metadata": {},
   "outputs": [],
   "source": []
  },
  {
   "cell_type": "code",
   "execution_count": 12,
   "metadata": {},
   "outputs": [
    {
     "data": {
      "application/vnd.jupyter.widget-view+json": {
       "model_id": "c4f81c390c2b4df1bc1eca86e24e0ff9",
       "version_major": 2,
       "version_minor": 0
      },
      "text/plain": [
       "Map:   0%|          | 0/1801350 [00:00<?, ? examples/s]"
      ]
     },
     "metadata": {},
     "output_type": "display_data"
    },
    {
     "data": {
      "application/vnd.jupyter.widget-view+json": {
       "model_id": "3a3b6d967685471d89d639d1800654d5",
       "version_major": 2,
       "version_minor": 0
      },
      "text/plain": [
       "Saving the dataset (0/2 shards):   0%|          | 0/1801350 [00:00<?, ? examples/s]"
      ]
     },
     "metadata": {},
     "output_type": "display_data"
    }
   ],
   "source": [
    "data_wikitext = dataset.map(precess,remove_columns=dataset.column_names,batched=True)\n",
    "data_wikitext.save_to_disk('/mntcephfs/data/ruoyusun/hanyizhou/data/wikitext')"
   ]
  },
  {
   "cell_type": "code",
   "execution_count": 27,
   "metadata": {},
   "outputs": [
    {
     "data": {
      "text/plain": [
       "(tensor(3.5734, grad_fn=<NllLossBackward0>),\n",
       " tensor(3.2478, grad_fn=<NllLossBackward0>),\n",
       " tensor(3.5918, grad_fn=<NllLossBackward0>))"
      ]
     },
     "execution_count": 27,
     "metadata": {},
     "output_type": "execute_result"
    }
   ],
   "source": [
    "from gpt2_modified import GPT2_FireWithCoPE,GPT2_FIRE,GPT2_CoPE\n",
    "model_mix = GPT2_FireWithCoPE.from_pretrained('./output/fire_with_cope/checkpoint-41250')\n",
    "model_fire = GPT2_FIRE.from_pretrained('./output/fire/checkpoint-41250')\n",
    "model_cope = GPT2_CoPE.from_pretrained('./output/cope/checkpoint-41250', n_posmax=384)\n",
    "output_mix = model_mix(input_ids = torch.tensor(ncoding['input_ids']), labels = torch.tensor(ncoding['input_ids']))\n",
    "output_fire = model_fire(input_ids = torch.tensor(ncoding['input_ids']), labels = torch.tensor(ncoding['input_ids']))\n",
    "output_cope = model_cope(input_ids = torch.tensor(ncoding['input_ids']), labels = torch.tensor(ncoding['input_ids']))\n",
    "output_mix.loss, output_fire.loss, output_cope.loss"
   ]
  },
  {
   "cell_type": "code",
   "execution_count": 5,
   "metadata": {},
   "outputs": [],
   "source": [
    "batch_size = 256\n",
    "import torch\n",
    "from torch.utils.data import DataLoader\n",
    "from transformers import DataCollatorForLanguageModeling\n",
    "trainingset = DataLoader(dataset, batch_size= batch_size, collate_fn= DataCollatorForLanguageModeling(tokenizer=tokenizer,\n",
    "                                                                                                      mlm=False))"
   ]
  },
  {
   "cell_type": "code",
   "execution_count": 11,
   "metadata": {},
   "outputs": [
    {
     "data": {
      "text/plain": [
       "tensor([50256, 44140,  2741, 32083,  5016, 20879,  8474,   287,  4544,  2852,\n",
       "           64,     0,   198,  5211,   345,   765,   284,   651,  1365,   379,\n",
       "         1642, 12625, 32083,    30,   921,   481,   423,   262,  3663,    11,\n",
       "         1234,   428,   319,   534, 11845,   783,    13,  3635,    11,  2693,\n",
       "         2534,   358,  4654,  2159,  5016, 32083, 15869,    11,  8832,  8528,\n",
       "          323,   422,   406, 19129,   283, 25416, 13804,    13,   679,   481,\n",
       "          307,  7743,   257, 31516,  1241,  1398,   329,  2506,   508,  3382,\n",
       "          284,   651,  1365,   351,   511, 35956,  4678,    13,   198,  1544,\n",
       "          481,  4545,   345,  2279,   345,   761,   284,   760,   284,  9320,\n",
       "          287,   257,   509, 22923, 32083,  5449,    11,  1390,  7605,    11,\n",
       "        14296,    11, 46881,    11,  6174,  6356,   290, 15797,  2229,    11,\n",
       "         5556, 41644,   290,  2046,  1321,    13,   198,   464,  1575,   284,\n",
       "          307,   287,   262,  1398,   318,   720,  2327,   583,  1048,    11,\n",
       "          290,   329, 31704,   340,   318,  1479,    13, 34774,   287,   262,\n",
       "         1575,   481,   307,  2035,   257,   256,    12, 15600,   393,   257,\n",
       "        31186,   290,   345,   481,   307, 26973,  8405,   286,  1123,  6174,\n",
       "          326,   318,  5597,    13, 50257, 50257, 50257, 50257, 50257, 50257,\n",
       "        50257, 50257, 50257, 50257, 50257, 50257, 50257, 50257, 50257, 50257,\n",
       "        50257, 50257, 50257, 50257, 50257, 50257, 50257, 50257, 50257, 50257,\n",
       "        50257, 50257, 50257, 50257, 50257, 50257, 50257, 50257, 50257, 50257,\n",
       "        50257, 50257, 50257, 50257, 50257, 50257, 50257, 50257, 50257, 50257,\n",
       "        50257, 50257, 50257, 50257, 50257, 50257, 50257, 50257, 50257, 50257,\n",
       "        50257, 50257, 50257, 50257, 50257, 50257, 50257, 50257, 50257, 50257,\n",
       "        50257, 50257, 50257, 50257, 50257, 50257, 50257, 50257, 50257, 50257,\n",
       "        50257, 50257, 50257, 50257, 50257, 50257, 50257, 50257, 50257, 50257,\n",
       "        50257, 50257, 50257, 50257, 50257, 50257, 50257, 50257, 50257, 50257,\n",
       "        50257, 50257, 50257, 50257, 50257, 50257, 50257, 50257, 50257, 50257,\n",
       "        50257, 50257, 50257, 50257, 50257, 50257, 50257, 50257, 50257, 50257,\n",
       "        50257, 50257, 50257, 50257, 50257, 50257, 50257, 50257, 50257, 50257,\n",
       "        50257, 50257, 50257, 50257, 50257, 50257, 50257, 50257, 50257, 50257,\n",
       "        50257, 50257, 50257, 50257, 50257, 50257, 50257, 50257, 50257, 50257,\n",
       "        50257, 50257, 50257, 50257, 50257, 50257, 50257, 50257, 50257, 50257,\n",
       "        50257, 50257, 50257, 50257, 50257, 50257, 50257, 50257, 50257, 50257,\n",
       "        50257, 50257, 50257, 50257, 50257, 50257, 50257, 50257, 50257, 50257,\n",
       "        50257, 50257, 50257, 50257, 50257, 50257, 50257, 50257, 50257, 50257,\n",
       "        50257, 50257, 50257, 50257, 50257, 50257, 50257, 50257, 50257, 50257,\n",
       "        50257, 50257, 50257, 50257, 50257, 50257, 50257, 50257, 50257, 50257,\n",
       "        50257, 50257, 50257, 50257, 50257, 50257, 50257, 50257, 50257, 50257,\n",
       "        50257, 50257, 50257, 50257, 50257, 50257, 50257, 50257, 50257, 50257,\n",
       "        50257, 50257, 50257, 50257, 50257, 50257, 50257, 50257, 50257, 50257,\n",
       "        50257, 50257, 50257, 50257, 50257, 50257, 50257, 50257, 50257, 50257,\n",
       "        50257, 50257, 50257, 50257, 50257, 50257, 50257, 50257, 50257, 50257,\n",
       "        50257, 50257, 50257, 50257, 50257, 50257, 50257, 50257, 50257, 50257,\n",
       "        50257, 50257, 50257, 50257, 50257, 50257, 50257, 50257, 50257, 50257,\n",
       "        50257, 50257, 50257, 50257, 50257, 50257, 50257, 50257, 50257, 50257,\n",
       "        50257, 50257, 50257, 50257, 50257, 50257, 50257, 50257, 50257, 50257,\n",
       "        50257, 50257, 50257, 50257, 50257, 50257, 50257, 50257, 50257, 50257,\n",
       "        50257, 50257, 50257, 50257, 50257, 50257, 50257, 50257, 50257, 50257,\n",
       "        50257, 50257, 50257, 50257, 50257, 50257, 50257, 50257, 50257, 50257,\n",
       "        50257, 50257, 50257, 50257, 50257, 50257, 50257, 50257, 50257, 50257,\n",
       "        50257, 50257, 50257, 50257, 50257, 50257, 50257, 50257, 50257, 50257,\n",
       "        50257, 50257])"
      ]
     },
     "execution_count": 11,
     "metadata": {},
     "output_type": "execute_result"
    }
   ],
   "source": [
    "next(enumerate(trainingset))[1]['input_ids'][0]"
   ]
  },
  {
   "cell_type": "code",
   "execution_count": 5,
   "metadata": {},
   "outputs": [],
   "source": [
    "from gpt2_modified import GPT2_CoPE, GPT2_FIRE\n",
    "config = GPT2Config()\n",
    "config.n_positions = 1024\n",
    "config.resid_pdrop = 0.0\n",
    "config.embd_pdrop = 0.0\n",
    "config.attn_pdrop = 0.0\n",
    "config.vocab_size = 50258\n",
    "model_cope = GPT2_CoPE(config,n_posmax=128)\n",
    "model_fire = GPT2_FIRE(config)"
   ]
  },
  {
   "cell_type": "code",
   "execution_count": 8,
   "metadata": {},
   "outputs": [],
   "source": [
    "args_cope = TrainingArguments(\n",
    "    output_dir='./output/cope',\n",
    "    per_device_train_batch_size=16,\n",
    "    learning_rate= 6e-4,\n",
    "    num_train_epochs=300,\n",
    "    logging_steps = 128\n",
    ")\n",
    "args_fire = TrainingArguments(\n",
    "    output_dir='./output/fire',\n",
    "    per_device_train_batch_size=16,\n",
    "    learning_rate= 6e-4,\n",
    "    num_train_epochs=300,\n",
    "    logging_steps = 128\n",
    ")"
   ]
  },
  {
   "cell_type": "code",
   "execution_count": 9,
   "metadata": {},
   "outputs": [
    {
     "name": "stderr",
     "output_type": "stream",
     "text": [
      "/mntcephfs/lab_data/hanyizhou/anaconda/pe/lib/python3.11/site-packages/accelerate/accelerator.py:444: FutureWarning: Passing the following arguments to `Accelerator` is deprecated and will be removed in version 1.0 of Accelerate: dict_keys(['dispatch_batches', 'split_batches', 'even_batches', 'use_seedable_sampler']). Please pass an `accelerate.DataLoaderConfiguration` instead: \n",
      "dataloader_config = DataLoaderConfiguration(dispatch_batches=None, split_batches=False, even_batches=True, use_seedable_sampler=True)\n",
      "  warnings.warn(\n",
      "Detected kernel version 4.18.0, which is below the recommended minimum of 5.5.0; this can cause the process to hang. It is recommended to upgrade the kernel to the minimum version or higher.\n"
     ]
    }
   ],
   "source": [
    "trainer_cope = Trainer(\n",
    "    args = args_cope,\n",
    "    model = model_cope,\n",
    "    data_collator=DataCollatorForLanguageModeling(tokenizer=tokenizer, mlm=False),\n",
    "    train_dataset = dataset                                                                                   \n",
    ")"
   ]
  },
  {
   "cell_type": "code",
   "execution_count": null,
   "metadata": {},
   "outputs": [],
   "source": [
    "trainer_cope.train()"
   ]
  },
  {
   "cell_type": "code",
   "execution_count": null,
   "metadata": {},
   "outputs": [],
   "source": [
    "#注意, 在接下来的amp部分我要用batched这个参数, 所以我这里的输入是一个batch的example\n",
    "def preprocess_function(example):\n",
    "    content = [e+tokenizer.eos_token for e in example['text']]\n",
    "    return tokenizer(content,max_length=2048, truncation=True)\n"
   ]
  },
  {
   "cell_type": "code",
   "execution_count": null,
   "metadata": {},
   "outputs": [],
   "source": [
    "clean_dataset = dataset.map(preprocess_function, batched=True)"
   ]
  }
 ],
 "metadata": {
  "kernelspec": {
   "display_name": "Python 3",
   "language": "python",
   "name": "python3"
  },
  "language_info": {
   "codemirror_mode": {
    "name": "ipython",
    "version": 3
   },
   "file_extension": ".py",
   "mimetype": "text/x-python",
   "name": "python",
   "nbconvert_exporter": "python",
   "pygments_lexer": "ipython3",
   "version": "3.11.9"
  }
 },
 "nbformat": 4,
 "nbformat_minor": 2
}
